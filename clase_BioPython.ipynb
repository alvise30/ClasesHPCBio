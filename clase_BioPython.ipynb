{
 "metadata": {
  "name": "",
  "signature": "sha256:65118a57e5c59f5a4296c5bc2f8582f839c6ed39f4dc63e6191b45e8cc4a7ee4"
 },
 "nbformat": 3,
 "nbformat_minor": 0,
 "worksheets": [
  {
   "cells": [
    {
     "cell_type": "code",
     "collapsed": false,
     "input": [
      "%pylab inline\n",
      "import Bio as bp\n",
      "from Bio.Blast import NCBIWWW"
     ],
     "language": "python",
     "metadata": {},
     "outputs": [
      {
       "output_type": "stream",
       "stream": "stdout",
       "text": [
        "Populating the interactive namespace from numpy and matplotlib\n"
       ]
      }
     ],
     "prompt_number": 1
    },
    {
     "cell_type": "code",
     "collapsed": false,
     "input": [
      "print(bp.__version__)"
     ],
     "language": "python",
     "metadata": {},
     "outputs": [
      {
       "output_type": "stream",
       "stream": "stdout",
       "text": [
        "1.66\n"
       ]
      }
     ],
     "prompt_number": 2
    },
    {
     "cell_type": "code",
     "collapsed": false,
     "input": [
      "fasta_string = open(\"my_seq.fa\").read()"
     ],
     "language": "python",
     "metadata": {},
     "outputs": [],
     "prompt_number": 8
    },
    {
     "cell_type": "markdown",
     "metadata": {},
     "source": [
      "##Running BLAST over the Internet"
     ]
    },
    {
     "cell_type": "code",
     "collapsed": false,
     "input": [
      "result_handle = NCBIWWW.qblast(\"blastn\", \"nt\", fasta_string)"
     ],
     "language": "python",
     "metadata": {},
     "outputs": [],
     "prompt_number": 9
    },
    {
     "cell_type": "code",
     "collapsed": false,
     "input": [
      "#help(NCBIWWW.qblast)"
     ],
     "language": "python",
     "metadata": {},
     "outputs": [],
     "prompt_number": 10
    },
    {
     "cell_type": "markdown",
     "metadata": {},
     "source": [
      "##The BLAST Record"
     ]
    },
    {
     "cell_type": "code",
     "collapsed": false,
     "input": [
      "from Bio.Blast import NCBIXML"
     ],
     "language": "python",
     "metadata": {},
     "outputs": [],
     "prompt_number": 11
    },
    {
     "cell_type": "code",
     "collapsed": false,
     "input": [
      "blast_record = NCBIXML.read(result_handle)"
     ],
     "language": "python",
     "metadata": {},
     "outputs": [],
     "prompt_number": 12
    },
    {
     "cell_type": "code",
     "collapsed": false,
     "input": [
      "len(blast_record.alignments)"
     ],
     "language": "python",
     "metadata": {},
     "outputs": [
      {
       "metadata": {},
       "output_type": "pyout",
       "prompt_number": 13,
       "text": [
        "50"
       ]
      }
     ],
     "prompt_number": 13
    },
    {
     "cell_type": "code",
     "collapsed": false,
     "input": [
      "fasta_string = open(\"my_seq2.fa\").read()\n",
      "result_handle = NCBIWWW.qblast(\"blastn\", \"nt\", fasta_string)\n",
      "blast_record = NCBIXML.read(result_handle)"
     ],
     "language": "python",
     "metadata": {},
     "outputs": [],
     "prompt_number": 19
    },
    {
     "cell_type": "code",
     "collapsed": false,
     "input": [
      "fasta_string_p = open(\"my_seq_protein.fa\").read()\n",
      "result_handle_p = NCBIWWW.qblast(\"blastp\", \"nr\", fasta_string_p)\n",
      "blast_record_p = NCBIXML.read(result_handle_p)"
     ],
     "language": "python",
     "metadata": {},
     "outputs": [],
     "prompt_number": 24
    },
    {
     "cell_type": "code",
     "collapsed": false,
     "input": [
      "len(blast_record.alignments)"
     ],
     "language": "python",
     "metadata": {},
     "outputs": [
      {
       "metadata": {},
       "output_type": "pyout",
       "prompt_number": 25,
       "text": [
        "32"
       ]
      }
     ],
     "prompt_number": 25
    },
    {
     "cell_type": "code",
     "collapsed": false,
     "input": [
      "E_VALUE_THRESH = 0.01\n",
      "\n",
      "for alignment in blast_record_p.alignments:\n",
      "    for hsp in aligment.hsps:\n",
      "        if hsp.expect < E_VALUE_THRESH:\n",
      "            print(\"***Alignment***\")\n",
      "            print('sequence:', alignment.title)\n",
      "            print('length:', alignment.length)\n",
      "            print('e value:', hsp.expect)\n",
      "            print(hsp.query)\n",
      "            print(hsp.match)\n",
      "            print(hsp.sbjct)"
     ],
     "language": "python",
     "metadata": {},
     "outputs": [],
     "prompt_number": 27
    },
    {
     "cell_type": "code",
     "collapsed": false,
     "input": [],
     "language": "python",
     "metadata": {},
     "outputs": []
    }
   ],
   "metadata": {}
  }
 ]
}
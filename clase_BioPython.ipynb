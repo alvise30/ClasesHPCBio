{
 "metadata": {
  "name": "",
  "signature": "sha256:eaeff97381a64889c8d1c5c366ba0f808ec2db79a454d36d36db1bc982422403"
 },
 "nbformat": 3,
 "nbformat_minor": 0,
 "worksheets": [
  {
   "cells": [
    {
     "cell_type": "code",
     "collapsed": false,
     "input": [
      "%pylab inline\n",
      "import Bio as bp\n",
      "from Bio.Blast import NCBIWWW"
     ],
     "language": "python",
     "metadata": {},
     "outputs": [
      {
       "output_type": "stream",
       "stream": "stdout",
       "text": [
        "Populating the interactive namespace from numpy and matplotlib\n"
       ]
      }
     ],
     "prompt_number": 1
    },
    {
     "cell_type": "code",
     "collapsed": false,
     "input": [
      "print(bp.__version__)"
     ],
     "language": "python",
     "metadata": {},
     "outputs": [
      {
       "output_type": "stream",
       "stream": "stdout",
       "text": [
        "1.66\n"
       ]
      }
     ],
     "prompt_number": 2
    },
    {
     "cell_type": "code",
     "collapsed": false,
     "input": [
      "fasta_string = open(\"my_seq.fa\").read()"
     ],
     "language": "python",
     "metadata": {},
     "outputs": [],
     "prompt_number": 8
    },
    {
     "cell_type": "markdown",
     "metadata": {},
     "source": [
      "##Running BLAST over the Internet"
     ]
    },
    {
     "cell_type": "code",
     "collapsed": false,
     "input": [
      "result_handle = NCBIWWW.qblast(\"blastn\", \"nt\", fasta_string)"
     ],
     "language": "python",
     "metadata": {},
     "outputs": [],
     "prompt_number": 9
    },
    {
     "cell_type": "code",
     "collapsed": false,
     "input": [
      "#help(NCBIWWW.qblast)"
     ],
     "language": "python",
     "metadata": {},
     "outputs": [],
     "prompt_number": 10
    },
    {
     "cell_type": "markdown",
     "metadata": {},
     "source": [
      "##The BLAST Record"
     ]
    },
    {
     "cell_type": "code",
     "collapsed": false,
     "input": [
      "from Bio.Blast import NCBIXML"
     ],
     "language": "python",
     "metadata": {},
     "outputs": [],
     "prompt_number": 11
    },
    {
     "cell_type": "code",
     "collapsed": false,
     "input": [
      "blast_record = NCBIXML.read(result_handle)"
     ],
     "language": "python",
     "metadata": {},
     "outputs": [],
     "prompt_number": 12
    },
    {
     "cell_type": "code",
     "collapsed": false,
     "input": [
      "len(blast_record.alignments)"
     ],
     "language": "python",
     "metadata": {},
     "outputs": [
      {
       "metadata": {},
       "output_type": "pyout",
       "prompt_number": 13,
       "text": [
        "50"
       ]
      }
     ],
     "prompt_number": 13
    },
    {
     "cell_type": "code",
     "collapsed": false,
     "input": [
      "fasta_string = open(\"my_seq2.fa\").read()\n",
      "result_handle = NCBIWWW.qblast(\"blastn\", \"nt\", fasta_string)\n",
      "blast_record = NCBIXML.read(result_handle)"
     ],
     "language": "python",
     "metadata": {},
     "outputs": [],
     "prompt_number": 19
    },
    {
     "cell_type": "code",
     "collapsed": false,
     "input": [
      "len(blast_record.alignments)"
     ],
     "language": "python",
     "metadata": {},
     "outputs": [
      {
       "metadata": {},
       "output_type": "pyout",
       "prompt_number": 20,
       "text": [
        "32"
       ]
      }
     ],
     "prompt_number": 20
    },
    {
     "cell_type": "code",
     "collapsed": false,
     "input": [
      "E_VALUE_THRESH = 0.01\n",
      "\n",
      "for alignment in blast_record.alignments:\n",
      "    for hsp in aligment.hsps:\n",
      "        if hsp.expect < E_VALUE_THRESH:\n",
      "            print(\"***Alignment***\")\n",
      "            print('sequence:', alignment.title)\n",
      "            print('length:', alignment.length)\n",
      "            print('e value:', hsp.expect)\n",
      "            print(hsp.query)\n",
      "            print(hsp.match)\n",
      "            print(hsp.sbjct)"
     ],
     "language": "python",
     "metadata": {},
     "outputs": [
      {
       "output_type": "stream",
       "stream": "stdout",
       "text": [
        "***Alignment***\n",
        "('sequence:', u'gi|702350143|ref|XM_010059359.1| PREDICTED: Eucalyptus grandis probable trans-2-enoyl-CoA reductase, mitochondrial (LOC104445446), transcript variant X2, mRNA')\n",
        "('length:', 1443)\n",
        "('e value:', 3.71849e-29)\n",
        "CATGCTACGGTGCTAAAAGCATTACGCCCTATAGTGATTTTCGAGACATACTGTGTTTTTAAATATAGTATTGCC\n",
        "|||||||||||||||||||||||||||||||||||||||||||||||||||||||||||||||||||||||||||\n",
        "CATGCTACGGTGCTAAAAGCATTACGCCCTATAGTGATTTTCGAGACATACTGTGTTTTTAAATATAGTATTGCC\n",
        "***Alignment***\n",
        "('sequence:', u'gi|702350137|ref|XM_010059358.1| PREDICTED: Eucalyptus grandis probable trans-2-enoyl-CoA reductase, mitochondrial (LOC104445446), transcript variant X1, mRNA')\n",
        "('length:', 1556)\n",
        "('e value:', 3.71849e-29)\n",
        "CATGCTACGGTGCTAAAAGCATTACGCCCTATAGTGATTTTCGAGACATACTGTGTTTTTAAATATAGTATTGCC\n",
        "|||||||||||||||||||||||||||||||||||||||||||||||||||||||||||||||||||||||||||\n",
        "CATGCTACGGTGCTAAAAGCATTACGCCCTATAGTGATTTTCGAGACATACTGTGTTTTTAAATATAGTATTGCC\n",
        "***Alignment***\n",
        "('sequence:', u'gi|687008627|emb|LM437144.1| Nippostrongylus brasiliensis genome assembly N_brasiliensis_RM07_v1_5_4 ,scaffold NBR_contig0000236')\n",
        "('length:', 19215)\n",
        "('e value:', 3.71849e-29)\n",
        "CATGCTACGGTGCTAAAAGCATTACGCCCTATAGTGATTTTCGAGACATACTGTGTTTTTAAATATAGTATTGCC\n",
        "|||||||||||||||||||||||||||||||||||||||||||||||||||||||||||||||||||||||||||\n",
        "CATGCTACGGTGCTAAAAGCATTACGCCCTATAGTGATTTTCGAGACATACTGTGTTTTTAAATATAGTATTGCC\n",
        "***Alignment***\n",
        "('sequence:', u'gi|1005465056|ref|XR_001565220.1| PREDICTED: Acropora digitifera uncharacterized LOC107348048 (LOC107348048), ncRNA')\n",
        "('length:', 469)\n",
        "('e value:', 3.71849e-29)\n",
        "CATGCTACGGTGCTAAAAGCATTACGCCCTATAGTGATTTTCGAGACATACTGTGTTTTTAAATATAGTATTGCC\n",
        "|||||||||||||||||||||||||||||||||||||||||||||||||||||||||||||||||||||||||||\n",
        "CATGCTACGGTGCTAAAAGCATTACGCCCTATAGTGATTTTCGAGACATACTGTGTTTTTAAATATAGTATTGCC\n",
        "***Alignment***\n",
        "('sequence:', u'gi|937934639|dbj|AP014966.1| Oryza sativa Japonica Group DNA, chromosome 10, cultivar: Nipponbare, complete sequence')\n",
        "('length:', 23207287)\n",
        "('e value:', 3.71849e-29)\n",
        "CATGCTACGGTGCTAAAAGCATTACGCCCTATAGTGATTTTCGAGACATACTGTGTTTTTAAATATAGTATTGCC\n",
        "|||||||||||||||||||||||||||||||||||||||||||||||||||||||||||||||||||||||||||\n",
        "CATGCTACGGTGCTAAAAGCATTACGCCCTATAGTGATTTTCGAGACATACTGTGTTTTTAAATATAGTATTGCC\n",
        "***Alignment***\n",
        "('sequence:', u'gi|21263270|gb|AC087543.3| Oryza sativa (japonica cultivar-group) chromosome 10 clone nbxb0068N06, complete sequence')\n",
        "('length:', 174019)\n",
        "('e value:', 3.71849e-29)\n",
        "CATGCTACGGTGCTAAAAGCATTACGCCCTATAGTGATTTTCGAGACATACTGTGTTTTTAAATATAGTATTGCC\n",
        "|||||||||||||||||||||||||||||||||||||||||||||||||||||||||||||||||||||||||||\n",
        "CATGCTACGGTGCTAAAAGCATTACGCCCTATAGTGATTTTCGAGACATACTGTGTTTTTAAATATAGTATTGCC\n",
        "***Alignment***\n",
        "('sequence:', u'gi|1002837832|ref|XM_015840985.1| PREDICTED: Oryza brachyantha inactive protein FON2 SPARE1 (LOC107304917), mRNA')\n",
        "('length:', 779)\n",
        "('e value:', 3.71849e-29)\n",
        "CATGCTACGGTGCTAAAAGCATTACGCCCTATAGTGATTTTCGAGACATACTGTGTTTTTAAATATAGTATTGCC\n",
        "|||||||||||||||||||||||||||||||||||||||||||||||||||||||||||||||||||||||||||\n",
        "CATGCTACGGTGCTAAAAGCATTACGCCCTATAGTGATTTTCGAGACATACTGTGTTTTTAAATATAGTATTGCC\n",
        "***Alignment***\n",
        "('sequence:', u'gi|951540843|ref|XM_014617891.1| PREDICTED: Dinoponera quadriceps la-related protein CG11505-like (LOC106743736), transcript variant X9, mRNA')\n",
        "('length:', 4013)\n",
        "('e value:', 3.71849e-29)\n",
        "CATGCTACGGTGCTAAAAGCATTACGCCCTATAGTGATTTTCGAGACATACTGTGTTTTTAAATATAGTATTGCC\n",
        "|||||||||||||||||||||||||||||||||||||||||||||||||||||||||||||||||||||||||||\n",
        "CATGCTACGGTGCTAAAAGCATTACGCCCTATAGTGATTTTCGAGACATACTGTGTTTTTAAATATAGTATTGCC\n",
        "***Alignment***\n",
        "('sequence:', u'gi|951540841|ref|XM_014617890.1| PREDICTED: Dinoponera quadriceps la-related protein CG11505-like (LOC106743736), transcript variant X8, mRNA')\n",
        "('length:', 3923)\n",
        "('e value:', 3.71849e-29)\n",
        "CATGCTACGGTGCTAAAAGCATTACGCCCTATAGTGATTTTCGAGACATACTGTGTTTTTAAATATAGTATTGCC\n",
        "|||||||||||||||||||||||||||||||||||||||||||||||||||||||||||||||||||||||||||\n",
        "CATGCTACGGTGCTAAAAGCATTACGCCCTATAGTGATTTTCGAGACATACTGTGTTTTTAAATATAGTATTGCC\n",
        "***Alignment***\n",
        "('sequence:', u'gi|951540839|ref|XM_014617889.1| PREDICTED: Dinoponera quadriceps la-related protein CG11505-like (LOC106743736), transcript variant X7, mRNA')\n",
        "('length:', 4564)\n",
        "('e value:', 3.71849e-29)\n",
        "CATGCTACGGTGCTAAAAGCATTACGCCCTATAGTGATTTTCGAGACATACTGTGTTTTTAAATATAGTATTGCC\n",
        "|||||||||||||||||||||||||||||||||||||||||||||||||||||||||||||||||||||||||||\n",
        "CATGCTACGGTGCTAAAAGCATTACGCCCTATAGTGATTTTCGAGACATACTGTGTTTTTAAATATAGTATTGCC\n",
        "***Alignment***\n",
        "('sequence:', u'gi|951540837|ref|XM_014617888.1| PREDICTED: Dinoponera quadriceps la-related protein CG11505-like (LOC106743736), transcript variant X6, mRNA')\n",
        "('length:', 3949)\n",
        "('e value:', 3.71849e-29)\n",
        "CATGCTACGGTGCTAAAAGCATTACGCCCTATAGTGATTTTCGAGACATACTGTGTTTTTAAATATAGTATTGCC\n",
        "|||||||||||||||||||||||||||||||||||||||||||||||||||||||||||||||||||||||||||\n",
        "CATGCTACGGTGCTAAAAGCATTACGCCCTATAGTGATTTTCGAGACATACTGTGTTTTTAAATATAGTATTGCC\n",
        "***Alignment***\n",
        "('sequence:', u'gi|951540835|ref|XM_014617886.1| PREDICTED: Dinoponera quadriceps la-related protein CG11505-like (LOC106743736), transcript variant X5, mRNA')\n",
        "('length:', 3961)\n",
        "('e value:', 3.71849e-29)\n",
        "CATGCTACGGTGCTAAAAGCATTACGCCCTATAGTGATTTTCGAGACATACTGTGTTTTTAAATATAGTATTGCC\n",
        "|||||||||||||||||||||||||||||||||||||||||||||||||||||||||||||||||||||||||||\n",
        "CATGCTACGGTGCTAAAAGCATTACGCCCTATAGTGATTTTCGAGACATACTGTGTTTTTAAATATAGTATTGCC\n",
        "***Alignment***\n",
        "('sequence:', u'gi|951540833|ref|XM_014617885.1| PREDICTED: Dinoponera quadriceps la-related protein CG11505-like (LOC106743736), transcript variant X4, mRNA')\n",
        "('length:', 3970)\n",
        "('e value:', 3.71849e-29)\n",
        "CATGCTACGGTGCTAAAAGCATTACGCCCTATAGTGATTTTCGAGACATACTGTGTTTTTAAATATAGTATTGCC\n",
        "|||||||||||||||||||||||||||||||||||||||||||||||||||||||||||||||||||||||||||\n",
        "CATGCTACGGTGCTAAAAGCATTACGCCCTATAGTGATTTTCGAGACATACTGTGTTTTTAAATATAGTATTGCC\n",
        "***Alignment***\n",
        "('sequence:', u'gi|951540831|ref|XM_014617884.1| PREDICTED: Dinoponera quadriceps la-related protein CG11505-like (LOC106743736), transcript variant X3, mRNA')\n",
        "('length:', 4024)\n",
        "('e value:', 3.71849e-29)\n",
        "CATGCTACGGTGCTAAAAGCATTACGCCCTATAGTGATTTTCGAGACATACTGTGTTTTTAAATATAGTATTGCC\n",
        "|||||||||||||||||||||||||||||||||||||||||||||||||||||||||||||||||||||||||||\n",
        "CATGCTACGGTGCTAAAAGCATTACGCCCTATAGTGATTTTCGAGACATACTGTGTTTTTAAATATAGTATTGCC\n",
        "***Alignment***\n",
        "('sequence:', u'gi|951540829|ref|XM_014617883.1| PREDICTED: Dinoponera quadriceps la-related protein CG11505-like (LOC106743736), transcript variant X2, mRNA')\n",
        "('length:', 4493)\n",
        "('e value:', 3.71849e-29)\n",
        "CATGCTACGGTGCTAAAAGCATTACGCCCTATAGTGATTTTCGAGACATACTGTGTTTTTAAATATAGTATTGCC\n",
        "|||||||||||||||||||||||||||||||||||||||||||||||||||||||||||||||||||||||||||\n",
        "CATGCTACGGTGCTAAAAGCATTACGCCCTATAGTGATTTTCGAGACATACTGTGTTTTTAAATATAGTATTGCC\n",
        "***Alignment***\n",
        "('sequence:', u'gi|951540827|ref|XM_014617882.1| PREDICTED: Dinoponera quadriceps la-related protein CG11505-like (LOC106743736), transcript variant X1, mRNA')\n",
        "('length:', 4516)\n",
        "('e value:', 3.71849e-29)\n",
        "CATGCTACGGTGCTAAAAGCATTACGCCCTATAGTGATTTTCGAGACATACTGTGTTTTTAAATATAGTATTGCC\n",
        "|||||||||||||||||||||||||||||||||||||||||||||||||||||||||||||||||||||||||||\n",
        "CATGCTACGGTGCTAAAAGCATTACGCCCTATAGTGATTTTCGAGACATACTGTGTTTTTAAATATAGTATTGCC\n",
        "***Alignment***\n",
        "('sequence:', u'gi|937937345|dbj|AP014967.1| Oryza sativa Japonica Group DNA, chromosome 11, cultivar: Nipponbare, complete sequence')\n",
        "('length:', 29021106)\n",
        "('e value:', 3.71849e-29)\n",
        "CATGCTACGGTGCTAAAAGCATTACGCCCTATAGTGATTTTCGAGACATACTGTGTTTTTAAATATAGTATTGCC\n",
        "|||||||||||||||||||||||||||||||||||||||||||||||||||||||||||||||||||||||||||\n",
        "CATGCTACGGTGCTAAAAGCATTACGCCCTATAGTGATTTTCGAGACATACTGTGTTTTTAAATATAGTATTGCC\n",
        "***Alignment***\n",
        "('sequence:', u'gi|937924750|dbj|AP014963.1| Oryza sativa Japonica Group DNA, chromosome 7, cultivar: Nipponbare, complete sequence')\n",
        "('length:', 29697621)\n",
        "('e value:', 3.71849e-29)\n",
        "CATGCTACGGTGCTAAAAGCATTACGCCCTATAGTGATTTTCGAGACATACTGTGTTTTTAAATATAGTATTGCC\n",
        "|||||||||||||||||||||||||||||||||||||||||||||||||||||||||||||||||||||||||||\n",
        "CATGCTACGGTGCTAAAAGCATTACGCCCTATAGTGATTTTCGAGACATACTGTGTTTTTAAATATAGTATTGCC\n",
        "***Alignment***\n",
        "('sequence:', u'gi|932283106|gb|CP012615.1| Oryza sativa Indica Group cultivar RP Bio-226 chromosome 7 sequence')\n",
        "('length:', 26660614)\n",
        "('e value:', 3.71849e-29)\n",
        "CATGCTACGGTGCTAAAAGCATTACGCCCTATAGTGATTTTCGAGACATACTGTGTTTTTAAATATAGTATTGCC\n",
        "|||||||||||||||||||||||||||||||||||||||||||||||||||||||||||||||||||||||||||\n",
        "CATGCTACGGTGCTAAAAGCATTACGCCCTATAGTGATTTTCGAGACATACTGTGTTTTTAAATATAGTATTGCC\n",
        "***Alignment***\n",
        "('sequence:', u'gi|723728658|ref|XM_004246880.2| PREDICTED: Solanum lycopersicum exocyst complex component EXO70A1-like (LOC101249400), mRNA')\n",
        "('length:', 1994)\n",
        "('e value:', 3.71849e-29)\n",
        "CATGCTACGGTGCTAAAAGCATTACGCCCTATAGTGATTTTCGAGACATACTGTGTTTTTAAATATAGTATTGCC\n",
        "|||||||||||||||||||||||||||||||||||||||||||||||||||||||||||||||||||||||||||\n",
        "CATGCTACGGTGCTAAAAGCATTACGCCCTATAGTGATTTTCGAGACATACTGTGTTTTTAAATATAGTATTGCC\n",
        "***Alignment***\n",
        "('sequence:', u'gi|689434114|emb|LL909484.1| Schistocephalus solidus genome assembly S_solidus_NST_G2 ,scaffold SSLN_scaffold0008933')\n",
        "('length:', 17502)\n",
        "('e value:', 3.71849e-29)\n",
        "CATGCTACGGTGCTAAAAGCATTACGCCCTATAGTGATTTTCGAGACATACTGTGTTTTTAAATATAGTATTGCC\n",
        "|||||||||||||||||||||||||||||||||||||||||||||||||||||||||||||||||||||||||||\n",
        "CATGCTACGGTGCTAAAAGCATTACGCCCTATAGTGATTTTCGAGACATACTGTGTTTTTAAATATAGTATTGCC\n",
        "***Alignment***\n",
        "('sequence:', u'gi|688711799|emb|LL321617.1| Anisakis simplex genome assembly A_simplex ,scaffold ASIM_scaffold0002261')\n",
        "('length:', 7657)\n",
        "('e value:', 3.71849e-29)\n",
        "CATGCTACGGTGCTAAAAGCATTACGCCCTATAGTGATTTTCGAGACATACTGTGTTTTTAAATATAGTATTGCC\n",
        "|||||||||||||||||||||||||||||||||||||||||||||||||||||||||||||||||||||||||||\n",
        "CATGCTACGGTGCTAAAAGCATTACGCCCTATAGTGATTTTCGAGACATACTGTGTTTTTAAATATAGTATTGCC\n",
        "***Alignment***\n",
        "('sequence:', u'gi|688613515|emb|LL255349.1| Echinostoma caproni genome assembly E_caproni_Egypt, scaffold ECPE_scaffold0021849')\n",
        "('length:', 10130)\n",
        "('e value:', 3.71849e-29)\n",
        "CATGCTACGGTGCTAAAAGCATTACGCCCTATAGTGATTTTCGAGACATACTGTGTTTTTAAATATAGTATTGCC\n",
        "|||||||||||||||||||||||||||||||||||||||||||||||||||||||||||||||||||||||||||\n",
        "CATGCTACGGTGCTAAAAGCATTACGCCCTATAGTGATTTTCGAGACATACTGTGTTTTTAAATATAGTATTGCC\n",
        "***Alignment***\n",
        "('sequence:', u'gi|670418527|ref|XM_008651789.1| PREDICTED: Zea mays WUSCHEL-related homeobox 12-like (LOC103630735), transcript variant X3, mRNA')\n",
        "('length:', 2134)\n",
        "('e value:', 3.71849e-29)\n",
        "CATGCTACGGTGCTAAAAGCATTACGCCCTATAGTGATTTTCGAGACATACTGTGTTTTTAAATATAGTATTGCC\n",
        "|||||||||||||||||||||||||||||||||||||||||||||||||||||||||||||||||||||||||||\n",
        "CATGCTACGGTGCTAAAAGCATTACGCCCTATAGTGATTTTCGAGACATACTGTGTTTTTAAATATAGTATTGCC\n",
        "***Alignment***\n",
        "('sequence:', u'gi|670418525|ref|XM_008651788.1| PREDICTED: Zea mays WUSCHEL-related homeobox 12-like (LOC103630735), transcript variant X2, mRNA')\n",
        "('length:', 2173)\n",
        "('e value:', 3.71849e-29)\n",
        "CATGCTACGGTGCTAAAAGCATTACGCCCTATAGTGATTTTCGAGACATACTGTGTTTTTAAATATAGTATTGCC\n",
        "|||||||||||||||||||||||||||||||||||||||||||||||||||||||||||||||||||||||||||\n",
        "CATGCTACGGTGCTAAAAGCATTACGCCCTATAGTGATTTTCGAGACATACTGTGTTTTTAAATATAGTATTGCC\n",
        "***Alignment***\n",
        "('sequence:', u'gi|663681331|emb|HG975521.1| Solanum lycopersicum chromosome ch09, complete genome')\n",
        "('length:', 67665719)\n",
        "('e value:', 3.71849e-29)\n",
        "CATGCTACGGTGCTAAAAGCATTACGCCCTATAGTGATTTTCGAGACATACTGTGTTTTTAAATATAGTATTGCC\n",
        "|||||||||||||||||||||||||||||||||||||||||||||||||||||||||||||||||||||||||||\n",
        "CATGCTACGGTGCTAAAAGCATTACGCCCTATAGTGATTTTCGAGACATACTGTGTTTTTAAATATAGTATTGCC\n",
        "***Alignment***\n",
        "('sequence:', u'gi|209977152|gb|AC217787.2| Solanum lycopersicum chromosome 9 clone C09HBa0113I06, complete sequence')\n",
        "('length:', 94799)\n",
        "('e value:', 3.71849e-29)\n",
        "CATGCTACGGTGCTAAAAGCATTACGCCCTATAGTGATTTTCGAGACATACTGTGTTTTTAAATATAGTATTGCC\n",
        "|||||||||||||||||||||||||||||||||||||||||||||||||||||||||||||||||||||||||||\n",
        "CATGCTACGGTGCTAAAAGCATTACGCCCTATAGTGATTTTCGAGACATACTGTGTTTTTAAATATAGTATTGCC\n",
        "***Alignment***\n",
        "('sequence:', u'gi|151559131|dbj|AP006488.2| Cyanidioschyzon merolae strain 10D DNA, chromosome 6, complete genome')\n",
        "('length:', 536163)\n",
        "('e value:', 3.71849e-29)\n",
        "CATGCTACGGTGCTAAAAGCATTACGCCCTATAGTGATTTTCGAGACATACTGTGTTTTTAAATATAGTATTGCC\n",
        "|||||||||||||||||||||||||||||||||||||||||||||||||||||||||||||||||||||||||||\n",
        "CATGCTACGGTGCTAAAAGCATTACGCCCTATAGTGATTTTCGAGACATACTGTGTTTTTAAATATAGTATTGCC\n",
        "***Alignment***\n",
        "('sequence:', u'gi|46849661|gb|AC137924.3| Oryza sativa Japonica Group chromosome 11 clone OSJNBa0095K08, complete sequence')\n",
        "('length:', 180999)\n",
        "('e value:', 3.71849e-29)\n",
        "CATGCTACGGTGCTAAAAGCATTACGCCCTATAGTGATTTTCGAGACATACTGTGTTTTTAAATATAGTATTGCC\n",
        "|||||||||||||||||||||||||||||||||||||||||||||||||||||||||||||||||||||||||||\n",
        "CATGCTACGGTGCTAAAAGCATTACGCCCTATAGTGATTTTCGAGACATACTGTGTTTTTAAATATAGTATTGCC\n",
        "***Alignment***\n",
        "('sequence:', u'gi|46849663|gb|AC138003.2| Oryza sativa Japonica Group chromosome 11 clone OSJNBb0020C11, complete sequence')\n",
        "('length:', 30321)\n",
        "('e value:', 3.71849e-29)\n",
        "CATGCTACGGTGCTAAAAGCATTACGCCCTATAGTGATTTTCGAGACATACTGTGTTTTTAAATATAGTATTGCC\n",
        "|||||||||||||||||||||||||||||||||||||||||||||||||||||||||||||||||||||||||||\n",
        "CATGCTACGGTGCTAAAAGCATTACGCCCTATAGTGATTTTCGAGACATACTGTGTTTTTAAATATAGTATTGCC\n",
        "***Alignment***\n",
        "('sequence:', u'gi|50509478|dbj|AP005185.4| Oryza sativa Japonica Group genomic DNA, chromosome 7, PAC clone:P0409B11')\n",
        "('length:', 168354)\n",
        "('e value:', 3.71849e-29)\n",
        "CATGCTACGGTGCTAAAAGCATTACGCCCTATAGTGATTTTCGAGACATACTGTGTTTTTAAATATAGTATTGCC\n",
        "|||||||||||||||||||||||||||||||||||||||||||||||||||||||||||||||||||||||||||\n",
        "CATGCTACGGTGCTAAAAGCATTACGCCCTATAGTGATTTTCGAGACATACTGTGTTTTTAAATATAGTATTGCC\n",
        "***Alignment***\n",
        "('sequence:', u'gi|20269312|dbj|AP003815.2| Oryza sativa Japonica Group genomic DNA, chromosome 7, BAC clone:OJ1163_G04')\n",
        "('length:', 106253)\n",
        "('e value:', 3.71849e-29)\n",
        "CATGCTACGGTGCTAAAAGCATTACGCCCTATAGTGATTTTCGAGACATACTGTGTTTTTAAATATAGTATTGCC\n",
        "|||||||||||||||||||||||||||||||||||||||||||||||||||||||||||||||||||||||||||\n",
        "CATGCTACGGTGCTAAAAGCATTACGCCCTATAGTGATTTTCGAGACATACTGTGTTTTTAAATATAGTATTGCC\n"
       ]
      }
     ],
     "prompt_number": 21
    },
    {
     "cell_type": "code",
     "collapsed": false,
     "input": [],
     "language": "python",
     "metadata": {},
     "outputs": []
    }
   ],
   "metadata": {}
  }
 ]
}
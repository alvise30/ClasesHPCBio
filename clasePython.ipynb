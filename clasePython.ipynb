{
 "metadata": {
  "name": "",
  "signature": "sha256:90e912092b7fb7ea09e2da325694e9485896011aa508cbc3b4f64baa357c02c8"
 },
 "nbformat": 3,
 "nbformat_minor": 0,
 "worksheets": [
  {
   "cells": [
    {
     "cell_type": "code",
     "collapsed": false,
     "input": [
      "%pylab inline"
     ],
     "language": "python",
     "metadata": {},
     "outputs": [
      {
       "output_type": "stream",
       "stream": "stdout",
       "text": [
        "Populating the interactive namespace from numpy and matplotlib\n"
       ]
      }
     ],
     "prompt_number": 1
    },
    {
     "cell_type": "markdown",
     "metadata": {},
     "source": [
      "#Clase Python para HPC\n",
      "Marzo 15 de 2016\n"
     ]
    },
    {
     "cell_type": "code",
     "collapsed": false,
     "input": [
      "#DNA\n",
      "dna = 'actgcgctagttgcacacgtcgtagctagcatgctgcacgctcgactaatcgtagccctagctacgacacgctagctacgactcgatcgatcgtagctacgatcgtgc'"
     ],
     "language": "python",
     "metadata": {},
     "outputs": [],
     "prompt_number": 83
    },
    {
     "cell_type": "code",
     "collapsed": false,
     "input": [
      "#Contar c y g\n",
      "no_c = dna.count('c')\n",
      "no_g = dna.count('g')\n",
      "#Longitud de la cadena\n",
      "long_dna = len(dna)\n",
      "#Porcentaje gc\n",
      "gc_perc = (no_c+no_g)*100./long_dna"
     ],
     "language": "python",
     "metadata": {},
     "outputs": [],
     "prompt_number": 84
    },
    {
     "cell_type": "code",
     "collapsed": false,
     "input": [
      "#Imprimir todo\n",
      "print (\"N\u00famero de c: \" + str(no_c) + \"\\nN\u00famero de g: \" + str(no_g) \n",
      "        + \"\\nLongitud: \" + str(long_dna) + \"\\nPorcentaje gc: %5.3f%%\" % gc_perc)"
     ],
     "language": "python",
     "metadata": {},
     "outputs": [
      {
       "output_type": "stream",
       "stream": "stdout",
       "text": [
        "N\u00famero de c: 34\n",
        "N\u00famero de g: 26\n",
        "Longitud: 108\n",
        "Porcentaje gc: 55.556%\n"
       ]
      }
     ],
     "prompt_number": 86
    },
    {
     "cell_type": "code",
     "collapsed": false,
     "input": [
      "print(\"%d\" % 10.6) #Pasarlo a entero\n",
      "print(\"%3d\" % 10.6) #Agrega 3 espacios antes y lo pasa a entero\n",
      "print(\"%o\" % 10.6) #Lo pasa a octales\n",
      "print(\"%e\" % 10.6) #Pasarlo potencia de 10 (notaci\u00f3n cient\u00edfica)\n",
      "print(\"%s\" % 10.6) #Pasarlo a string"
     ],
     "language": "python",
     "metadata": {},
     "outputs": [
      {
       "output_type": "stream",
       "stream": "stdout",
       "text": [
        "10\n",
        " 10\n",
        "12\n",
        "1.060000e+01\n",
        "10.6\n"
       ]
      }
     ],
     "prompt_number": 1
    },
    {
     "cell_type": "markdown",
     "metadata": {},
     "source": [
      "#Clase 4 de abril de 2016\n",
      "Estructura de Datos - Python  \n",
      "1.Lista"
     ]
    },
    {
     "cell_type": "code",
     "collapsed": false,
     "input": [
      "gene_expresion = [\"Lif\", 5.16e-08, 0.000138511, 7.33e-8]\n",
      "gene_expresion[1:3] = [6.09e-07]\n",
      "gene_expresion"
     ],
     "language": "python",
     "metadata": {},
     "outputs": [
      {
       "metadata": {},
       "output_type": "pyout",
       "prompt_number": 39,
       "text": [
        "['Lif', 6.09e-07, 7.33e-08]"
       ]
      }
     ],
     "prompt_number": 39
    },
    {
     "cell_type": "code",
     "collapsed": false,
     "input": [
      "gene_expresion+[4,5]#Adiciona cada uno de los elementos de la lista. Una nueva lista."
     ],
     "language": "python",
     "metadata": {},
     "outputs": [
      {
       "metadata": {},
       "output_type": "pyout",
       "prompt_number": 36,
       "text": [
        "['Lif', 6.09e-07, 7.33e-08, 4, 5]"
       ]
      }
     ],
     "prompt_number": 36
    },
    {
     "cell_type": "code",
     "collapsed": false,
     "input": [
      "len(gene_expresion)"
     ],
     "language": "python",
     "metadata": {},
     "outputs": [
      {
       "metadata": {},
       "output_type": "pyout",
       "prompt_number": 37,
       "text": [
        "3"
       ]
      }
     ],
     "prompt_number": 37
    },
    {
     "cell_type": "code",
     "collapsed": false,
     "input": [
      "gene_expresion.extend([4,5]) #Adiciona cada uno de los elementos de la lista.\n",
      "gene_expresion.append([4,5]) #adiciona el objeto entero que se le da por par\u00e1metro.\n",
      "gene_expresion"
     ],
     "language": "python",
     "metadata": {},
     "outputs": [
      {
       "metadata": {},
       "output_type": "pyout",
       "prompt_number": 38,
       "text": [
        "['Lif', 6.09e-07, 7.33e-08, 4, 5, [4, 5]]"
       ]
      }
     ],
     "prompt_number": 38
    },
    {
     "cell_type": "code",
     "collapsed": false,
     "input": [
      "print (gene_expresion.count('Lif'), gene_expresion.count('gene'))"
     ],
     "language": "python",
     "metadata": {},
     "outputs": [
      {
       "output_type": "stream",
       "stream": "stdout",
       "text": [
        "(1, 0)\n"
       ]
      }
     ],
     "prompt_number": 45
    },
    {
     "cell_type": "code",
     "collapsed": false,
     "input": [
      "gene_expresion.reverse()\n",
      "gene_expresion"
     ],
     "language": "python",
     "metadata": {},
     "outputs": [
      {
       "metadata": {},
       "output_type": "pyout",
       "prompt_number": 47,
       "text": [
        "['Lif', 6.09e-07, 7.33e-08]"
       ]
      }
     ],
     "prompt_number": 47
    },
    {
     "cell_type": "code",
     "collapsed": false,
     "input": [
      "stack = ['a', 'b', 'c', 'd']\n",
      "print stack.pop()\n",
      "stack.append('e')\n",
      "print stack.pop()"
     ],
     "language": "python",
     "metadata": {},
     "outputs": [
      {
       "output_type": "stream",
       "stream": "stdout",
       "text": [
        "d\n",
        "e\n"
       ]
      }
     ],
     "prompt_number": 56
    },
    {
     "cell_type": "code",
     "collapsed": false,
     "input": [
      "mylist=[3,31,123,1,5]\n",
      "print sorted(mylist)\n",
      "print mylist\n",
      "mylist.sort()\n",
      "print mylist"
     ],
     "language": "python",
     "metadata": {},
     "outputs": [
      {
       "output_type": "stream",
       "stream": "stdout",
       "text": [
        "[1, 3, 5, 31, 123]\n",
        "[3, 31, 123, 1, 5]\n",
        "[1, 3, 5, 31, 123]\n"
       ]
      }
     ],
     "prompt_number": 60
    },
    {
     "cell_type": "code",
     "collapsed": false,
     "input": [
      "milista = ['a','z',')', 3, 'T']\n",
      "milista.sort()\n",
      "milista"
     ],
     "language": "python",
     "metadata": {},
     "outputs": [
      {
       "metadata": {},
       "output_type": "pyout",
       "prompt_number": 63,
       "text": [
        "[3, ')', 'T', 'a', 'z']"
       ]
      }
     ],
     "prompt_number": 63
    },
    {
     "cell_type": "markdown",
     "metadata": {},
     "source": [
      "###Sets\n",
      "Es una colecci\u00f3n no ordenada sin duplicados."
     ]
    },
    {
     "cell_type": "code",
     "collapsed": false,
     "input": [
      "brca1={'DNA repair', 'zinc ion binding','DNA binding', 'ubiquitin-protein', 8}\n",
      "brca1"
     ],
     "language": "python",
     "metadata": {},
     "outputs": [
      {
       "metadata": {},
       "output_type": "pyout",
       "prompt_number": 66,
       "text": [
        "{8, 'DNA binding', 'DNA repair', 'ubiquitin-protein', 'zinc ion binding'}"
       ]
      }
     ],
     "prompt_number": 66
    },
    {
     "cell_type": "code",
     "collapsed": false,
     "input": [
      "brca1 | brca1 #Uni\u00f3n\n",
      "brca1 & brca1 #Intercepci\u00f3n\n",
      "brca1 - brca1 # diferencia"
     ],
     "language": "python",
     "metadata": {},
     "outputs": [
      {
       "metadata": {},
       "output_type": "pyout",
       "prompt_number": 73,
       "text": [
        "set()"
       ]
      }
     ],
     "prompt_number": 73
    },
    {
     "cell_type": "markdown",
     "metadata": {},
     "source": [
      "###Diccionarios\n",
      "es un sets desordenado de key and value pairs."
     ]
    },
    {
     "cell_type": "code",
     "collapsed": false,
     "input": [
      "TF_motif ={'SP1' : 'gggcgg',\n",
      " 'C/EBP' : 'attgcgcaat',\n",
      " 'ATF' : 'tgacgtca',\n",
      " 'c-Myc' : 'cacgtc',\n",
      " 'Oct-1' : 'atgcaaat'}"
     ],
     "language": "python",
     "metadata": {},
     "outputs": [],
     "prompt_number": 1
    },
    {
     "cell_type": "code",
     "collapsed": false,
     "input": [
      "TF_motif"
     ],
     "language": "python",
     "metadata": {},
     "outputs": [
      {
       "metadata": {},
       "output_type": "pyout",
       "prompt_number": 2,
       "text": [
        "{'ATF': 'tgacgtca',\n",
        " 'C/EBP': 'attgcgcaat',\n",
        " 'Oct-1': 'atgcaaat',\n",
        " 'SP1': 'gggcgg',\n",
        " 'c-Myc': 'cacgtc'}"
       ]
      }
     ],
     "prompt_number": 2
    },
    {
     "cell_type": "code",
     "collapsed": false,
     "input": [
      "TF_motif.keys()"
     ],
     "language": "python",
     "metadata": {},
     "outputs": [
      {
       "metadata": {},
       "output_type": "pyout",
       "prompt_number": 3,
       "text": [
        "['C/EBP', 'SP1', 'c-Myc', 'ATF', 'Oct-1']"
       ]
      }
     ],
     "prompt_number": 3
    },
    {
     "cell_type": "markdown",
     "metadata": {},
     "source": [
      "#Clase 5 de Marzo de 2016\n",
      "Condicionales y Ciclos"
     ]
    },
    {
     "cell_type": "code",
     "collapsed": false,
     "input": [
      "dna=raw_input(\"Enter DNA sequence: \") #Pide al usuario la secuencia de ADN"
     ],
     "language": "python",
     "metadata": {},
     "outputs": [
      {
       "name": "stdout",
       "output_type": "stream",
       "stream": "stdout",
       "text": [
        "Enter DNA sequence: agatdgdtagdtagdtgatdganngatgdnagt\n"
       ]
      }
     ],
     "prompt_number": 6
    },
    {
     "cell_type": "code",
     "collapsed": false,
     "input": [
      "#miramos cu\u00e1ntas bases no definidas tiene la secuencia de ADN ingresada.\n",
      "nbases = 0\n",
      "if 'n' in dna:\n",
      "    nbases = dna.count('n')\n",
      "    print(\"dna sequence has %d not defined bases.\" % nbases)"
     ],
     "language": "python",
     "metadata": {},
     "outputs": [
      {
       "output_type": "stream",
       "stream": "stdout",
       "text": [
        "dna sequence has 3 not defined bases.\n"
       ]
      }
     ],
     "prompt_number": 31
    },
    {
     "cell_type": "code",
     "collapsed": false,
     "input": [
      "alpha=copy(dna) #Hacemos una copia de dna"
     ],
     "language": "python",
     "metadata": {},
     "outputs": [],
     "prompt_number": 36
    },
    {
     "cell_type": "code",
     "collapsed": false,
     "input": [
      "print (alpha == dna)\n",
      "print (alpha is dna)"
     ],
     "language": "python",
     "metadata": {},
     "outputs": [
      {
       "output_type": "stream",
       "stream": "stdout",
       "text": [
        "True\n",
        "False\n"
       ]
      }
     ],
     "prompt_number": 37
    },
    {
     "cell_type": "code",
     "collapsed": false,
     "input": [],
     "language": "python",
     "metadata": {},
     "outputs": []
    }
   ],
   "metadata": {}
  }
 ]
}